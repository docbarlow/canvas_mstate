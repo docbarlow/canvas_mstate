{
 "cells": [
  {
   "cell_type": "markdown",
   "id": "1a92d40c-501d-4c9f-ae57-18cbd078dccf",
   "metadata": {},
   "source": [
    "# Getting Started with the Canvas API\n",
    "\n",
    "This notebook contains starter code to get you connected to the Canvas API at Mississippi State University so that you can perform ethical explorations of automation against an API.\n",
    "\n",
    "Any questions or ideas for world-changing startup companies that leverage the Canvas API, please email barlow@datascience.msstate.edu"
   ]
  },
  {
   "cell_type": "code",
   "execution_count": null,
   "id": "c700950e",
   "metadata": {},
   "outputs": [],
   "source": [
    "# Install / Import the Canvas Api\n",
    "try:\n",
    "    # Import the Canvas class from canvasapi\n",
    "    from canvasapi import Canvas\n",
    "except:\n",
    "    !pip install canvasapi\n",
    "    from canvasapi import Canvas\n",
    "\n",
    "# Set your Canvas API URL and API key\n",
    "# this one only work for Mississippi State University\n",
    "API_URL = \"https://canvas.msstate.edu\"\n",
    "\n",
    "# to get an API key log into Canvas, click on the \"account\", then \"settings\". \n",
    "# On that page, under \"Web Services\" and \"Approved Integrations\" you'll click \"+ New Access Token\"\n",
    "# Fill out the form with a purpose like \"Experiments\" and then set an expiration date so that if \n",
    "# your code falls into the wrong hands it won't do you any harm. Be sure to copy and save the \n",
    "# Token that is generated. It will be long and full of letters and numbers. Don't click \n",
    "# \"regenerate\" or, if you do, be sure to copy the regenerated token.\n",
    "API_KEY = \"\"  # Replace with your valid API key\n",
    "\n",
    "# how to find your ID - choose a course, then click on the \"people\" tab and click on your name\n",
    "# you'll see a number at the end of the URL - that's your unique number\n",
    "CANVAS_USER_ID = 2789  # replace with your number\n",
    "\n",
    "# Initialize a new Canvas object\n",
    "canvas = Canvas(API_URL, API_KEY)"
   ]
  },
  {
   "cell_type": "markdown",
   "id": "6fd46e0a",
   "metadata": {},
   "source": [
    "# Connect to Canvas and Get A List of My Courses"
   ]
  },
  {
   "cell_type": "code",
   "execution_count": null,
   "id": "fb37a862",
   "metadata": {},
   "outputs": [],
   "source": [
    "# Get the user's courses\n",
    "user = canvas.get_user(CANVAS_USER_ID)\n",
    "courses = user.get_courses()\n",
    "\n",
    "# Print course names and the todos for each\n",
    "for course in courses:\n",
    "    print(f\"Course: {course.name}\")\n",
    "    todos = course.get_todo_items()\n",
    "    for todo in todos:\n",
    "        print(todo) # you'd need to use attributes of todo to see the details\n",
    "\n"
   ]
  },
  {
   "cell_type": "markdown",
   "id": "56870af8-785a-4185-abb2-4921ca2d72a0",
   "metadata": {},
   "source": [
    "## Next Steps\n",
    "\n",
    "Check out what you can do with the Canvas API here: https://canvas.instructure.com/doc/api/"
   ]
  }
 ],
 "metadata": {
  "kernelspec": {
   "display_name": "Python 3 (ipykernel)",
   "language": "python",
   "name": "python3"
  },
  "language_info": {
   "codemirror_mode": {
    "name": "ipython",
    "version": 3
   },
   "file_extension": ".py",
   "mimetype": "text/x-python",
   "name": "python",
   "nbconvert_exporter": "python",
   "pygments_lexer": "ipython3",
   "version": "3.9.16"
  }
 },
 "nbformat": 4,
 "nbformat_minor": 5
}
